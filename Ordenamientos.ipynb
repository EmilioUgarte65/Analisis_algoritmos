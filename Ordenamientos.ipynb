{
 "cells": [
  {
   "cell_type": "markdown",
   "metadata": {},
   "source": [
    "# Bubble sort"
   ]
  },
  {
   "cell_type": "markdown",
   "metadata": {},
   "source": [
    "## Bubble sort 0"
   ]
  },
  {
   "cell_type": "code",
   "execution_count": 1,
   "metadata": {},
   "outputs": [
    {
     "name": "stdout",
     "output_type": "stream",
     "text": [
      "El arreglo ordenado es:\n",
      "[2, 7, 11, 13, 16, 18, 25, 27, 59, 87]\n"
     ]
    }
   ],
   "source": [
    "#Arrays\n",
    "nums0 = [16, 18, 25, 7, 11, 2, 59, 27, 87, 13]\n",
    "nums1 = [83, 9, 54, 14, 19, 10, 17, 1, 4, 5]\n",
    "#Función ordenamiento burbuja 0\n",
    "def bubbleSort(arr):\n",
    "    #Se define el numero de elementos en el array\n",
    "\tn = len(arr)\n",
    "    #Los for anidados externo controla la vuelta y el interno\n",
    "    #Controla el numero que se manda hacia atras\n",
    "\tfor i in range(n-1):\n",
    "\t\tfor j in range(0, n-1):\n",
    "            #Si numero actual es mayor a numero siguiente se hace cambio\n",
    "\t\t\tif arr[j] > arr[j + 1] :\n",
    "\t\t\t\tarr[j], arr[j + 1] = arr[j + 1], arr[j]\n",
    "#Se le da a la variable arr el array que queremos ordenar                \n",
    "arr=nums0\n",
    "#Se manda a llamar a la función\n",
    "bubbleSort(arr)\n",
    "#Se manda a imprimir, no se ocupa un for para imprimir porque python en cool xd\n",
    "print(\"El arreglo ordenado es:\")\n",
    "print(arr)"
   ]
  },
  {
   "cell_type": "markdown",
   "metadata": {},
   "source": [
    "## Bubble sort 1"
   ]
  },
  {
   "cell_type": "code",
   "execution_count": 6,
   "metadata": {},
   "outputs": [
    {
     "name": "stdout",
     "output_type": "stream",
     "text": [
      "El arreglo ordenado es:\n",
      "[2, 7, 11, 13, 16, 18, 25, 27, 59, 87]\n"
     ]
    }
   ],
   "source": [
    "#Arrays\n",
    "nums0 = [16, 18, 25, 7, 11, 2, 59, 27, 87, 13]\n",
    "nums1 = [83, 9, 54, 14, 19, 10, 17, 1, 4, 5]\n",
    "#Función ordenamiento burbuja 0\n",
    "def bubbleSort(arr):\n",
    "    #Se define el numero de elementos en el array\n",
    "\tn = len(arr)\n",
    "    #Los for anidados externo controla la vuelta y el interno\n",
    "    #Controla el numero que se manda hacia atras\n",
    "\tfor i in range(n-1):\n",
    "        #En este for vamos haciendo mas chico por cada vuelta del for principal\n",
    "\t\tfor j in range(0, n-i-1):\n",
    "            #Si numero actual es mayor a numero siguiente se hace cambio\n",
    "\t\t\tif arr[j] > arr[j + 1] :\n",
    "\t\t\t\tarr[j], arr[j + 1] = arr[j + 1], arr[j]\n",
    "#Se le da a la variable arr el array que queremos ordenar                \n",
    "arr=nums0\n",
    "#Se manda a llamar a la función\n",
    "bubbleSort(arr)\n",
    "#Se manda a imprimir, no se ocupa un for para imprimir porque python en cool xd\n",
    "print(\"El arreglo ordenado es:\")\n",
    "print(arr)"
   ]
  },
  {
   "cell_type": "markdown",
   "metadata": {},
   "source": [
    "## Bubble sort 2"
   ]
  },
  {
   "cell_type": "code",
   "execution_count": 24,
   "metadata": {},
   "outputs": [
    {
     "name": "stdout",
     "output_type": "stream",
     "text": [
      "El arreglo ordenado es:\n",
      "[2, 7, 11, 13, 16, 18, 25, 27, 59, 87]\n"
     ]
    }
   ],
   "source": [
    "#Arrays\n",
    "nums0 = [16, 18, 25, 7, 11, 2, 59, 27, 87, 13]\n",
    "nums1 = [83, 9, 54, 14, 19, 10, 17, 1, 4, 5]\n",
    "#Función ordenamiento burbuja 0\n",
    "def bubbleSort(arr):\n",
    "    #Se define el numero de elementos en el array\n",
    "    n = len(arr)\n",
    "    #Los for anidados externo controla la vuelta y el interno\n",
    "    #Controla el numero que se manda hacia atras\n",
    "    for i in range(n-1):\n",
    "        #se declara flag que representa si en una vuelta hay o no hay cambio\n",
    "        flag=False\n",
    "        #En este for vamos haciendo mas chico por cada vuelta del for principal\n",
    "        for j in range(0, n-i-1):\n",
    "             \n",
    "             #Si numero actual es mayor a numero siguiente se hace cambio\n",
    "             #Si hay cambio se declara a flag como verdadero\n",
    "             if arr[j] > arr[j + 1] : \n",
    "                 arr[j], arr[j + 1] = arr[j + 1], arr[j]\n",
    "                 flag=True\n",
    "        #En caso de ser verdadero se termina el ciclo\n",
    "        if flag==False:\n",
    "            break    \n",
    "\n",
    "#Se le da a la variable arr el array que queremos ordenar                \n",
    "arr=nums0\n",
    "#Se manda a llamar a la función\n",
    "bubbleSort(arr)\n",
    "#Se manda a imprimir, no se ocupa un for para imprimir porque python en cool xd\n",
    "print(\"El arreglo ordenado es:\")\n",
    "print(arr)"
   ]
  },
  {
   "cell_type": "markdown",
   "metadata": {},
   "source": [
    "## Insertion_sort"
   ]
  },
  {
   "cell_type": "code",
   "execution_count": 25,
   "metadata": {},
   "outputs": [
    {
     "name": "stdout",
     "output_type": "stream",
     "text": [
      "El Array ordenado es:\n",
      "[2, 7, 11, 13, 16, 18, 25, 27, 59, 87]\n"
     ]
    }
   ],
   "source": [
    "nums0 = [16, 18, 25, 7, 11, 2, 59, 27, 87, 13]\n",
    "nums1 = [83, 9, 54, 14, 19, 10, 17, 1, 4, 5]\n",
    "\n",
    "def insertionsort (arr):\n",
    "    for i in range(1, len(arr)):\n",
    "        aux = arr[i]\n",
    "        position=i\n",
    "        while position>0 and arr [position-1]>aux:\n",
    "            arr[position]= arr[position-1]\n",
    "            position=position-1\n",
    "          \n",
    "        arr[position]=aux\n",
    "arr=nums0\n",
    "insertionsort(arr)\n",
    "print(\"El Array ordenado es:\")\n",
    "print(arr)"
   ]
  },
  {
   "cell_type": "markdown",
   "metadata": {},
   "source": [
    "## Selection sort"
   ]
  },
  {
   "cell_type": "code",
   "execution_count": 26,
   "metadata": {},
   "outputs": [
    {
     "name": "stdout",
     "output_type": "stream",
     "text": [
      "0. [16, 18, 25, 7, 11, 2, 59, 27, 87, 13]\n",
      "1. [2, 18, 25, 7, 11, 16, 59, 27, 87, 13]\n",
      "2. [2, 7, 25, 18, 11, 16, 59, 27, 87, 13]\n",
      "3. [2, 7, 11, 18, 25, 16, 59, 27, 87, 13]\n",
      "4. [2, 7, 11, 13, 25, 16, 59, 27, 87, 18]\n",
      "5. [2, 7, 11, 13, 16, 25, 59, 27, 87, 18]\n",
      "6. [2, 7, 11, 13, 16, 18, 59, 27, 87, 25]\n",
      "7. [2, 7, 11, 13, 16, 18, 25, 27, 87, 59]\n",
      "8. [2, 7, 11, 13, 16, 18, 25, 27, 87, 59]\n",
      "Ordenado:\n",
      "[2, 7, 11, 13, 16, 18, 25, 27, 59, 87]\n"
     ]
    }
   ],
   "source": [
    "# Declaracion de Funciones\n",
    "################################################\n",
    "\n",
    "#declaraciones\n",
    "x = [16, 18, 25, 7, 11, 2, 59, 27, 87, 13]\n",
    "#x2 = [83, 9, 54, 14, 19, 10, 17, 1, 4, 5]\n",
    "################################################\n",
    "\n",
    "long = len(x)\n",
    "for i in range(long-1):\n",
    "    print(str(i) + \". \" + str(x))\n",
    "    k = i\n",
    "\n",
    "    j=i+1\n",
    "    for j in range(i+1, long):\n",
    "        if x[j] < x[k]:\n",
    "             k = j\n",
    "\n",
    "    aux = x[k]\n",
    "    x[k] = x[i]\n",
    "    x[i] = aux\n",
    "\n",
    "print(\"Ordenado:\")\n",
    "print(x)"
   ]
  },
  {
   "cell_type": "markdown",
   "metadata": {},
   "source": [
    "## Binary Insertion"
   ]
  },
  {
   "cell_type": "code",
   "execution_count": 27,
   "metadata": {},
   "outputs": [
    {
     "name": "stdout",
     "output_type": "stream",
     "text": [
      "0. [16, 18, 25, 7, 11, 2, 59, 27, 87, 13]\n",
      "1. [16, 18, 25, 7, 11, 2, 59, 27, 87, 13]\n",
      "2. [16, 18, 25, 7, 11, 2, 59, 27, 87, 13]\n",
      "3. [16, 18, 25, 7, 11, 2, 59, 27, 87, 13]\n",
      "4. [7, 16, 18, 25, 11, 2, 59, 27, 87, 13]\n",
      "5. [7, 11, 16, 18, 25, 2, 59, 27, 87, 13]\n",
      "6. [2, 7, 11, 16, 18, 25, 59, 27, 87, 13]\n",
      "7. [2, 7, 11, 16, 18, 25, 59, 27, 87, 13]\n",
      "8. [2, 7, 11, 16, 18, 25, 27, 59, 87, 13]\n",
      "9. [2, 7, 11, 16, 18, 25, 27, 59, 87, 13]\n",
      "Ordenado:\n",
      "[2, 7, 11, 13, 16, 18, 25, 27, 59, 87]\n"
     ]
    }
   ],
   "source": [
    "#Algoritmo clase_insercion_binaria\n",
    "################################################\n",
    "#declaraciones\n",
    "x = [16, 18, 25, 7, 11, 2, 59, 27, 87, 13]\n",
    "#x2 = [83, 9, 54, 14, 19, 10, 17, 1, 4, 5]\n",
    "\n",
    "################################################\n",
    "\n",
    "long = len(x)\n",
    "for i in range(long):\n",
    "    aux = x[i]\n",
    "    p = 0\n",
    "    u = i - 1\n",
    "    print(str(i) + \". \" + str(x))\n",
    "\n",
    "    while p <= u:\n",
    "        c = int((p+u) / 2)\n",
    "        if aux <= x[c]:\n",
    "            u = c - 1\n",
    "        else:\n",
    "            p = c + 1\n",
    "\n",
    "    k = i-1\n",
    "    while k >= p:\n",
    "        x[k+1] = x[k]\n",
    "        k = k - 1\n",
    "\n",
    "    x[p] = aux\n",
    "\n",
    "print(\"Ordenado:\")\n",
    "print(x)\n",
    "#####################################################3\n"
   ]
  }
 ],
 "metadata": {
  "interpreter": {
   "hash": "ff514226019538e00b06d60e0845596ea24ddcc85d9f4856e8453e7c48e8444b"
  },
  "kernelspec": {
   "display_name": "Python 3.9.10 64-bit (windows store)",
   "language": "python",
   "name": "python3"
  },
  "language_info": {
   "codemirror_mode": {
    "name": "ipython",
    "version": 3
   },
   "file_extension": ".py",
   "mimetype": "text/x-python",
   "name": "python",
   "nbconvert_exporter": "python",
   "pygments_lexer": "ipython3",
   "version": "3.9.10"
  },
  "orig_nbformat": 4
 },
 "nbformat": 4,
 "nbformat_minor": 2
}
